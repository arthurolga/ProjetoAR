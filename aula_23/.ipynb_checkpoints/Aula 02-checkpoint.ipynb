{
 "cells": [
  {
   "cell_type": "markdown",
   "metadata": {},
   "source": [
    "# Aula 02\n",
    "\n",
    "## Homografias\n",
    "\n",
    "Nesta aula introduziremos o conceito de homografias. Para isso utilizaremos uma aplicação de exemplo: retificação de fotos de documentos.\n",
    "\n",
    "Considere inicialmente a imagem a seguir:\n",
    "\n",
    "<img src=\"foto-documento.jpg\" alt=\"Foto de um documento\" style=\"width: 500px;\"/>\n",
    "\n",
    "O objetivo da retificação de documentos é obter a imagem a seguir:\n",
    "\n",
    "<img src=\"documento.jpg\" alt=\"Foto de um documento\" style=\"width: 500px;\"/>"
   ]
  },
  {
   "cell_type": "markdown",
   "metadata": {},
   "source": [
    "## Estimação de homografias\n",
    "\n",
    "Uma homografia é definida pela matriz:\n",
    "\n",
    "$$\n",
    "H = \\begin{pmatrix}\n",
    "h_{11} & h_{12} & h_{13} \\\\\n",
    "h_{21} & h_{22} & h_{23} \\\\\n",
    "h_{31} & h_{32} & h_{33} \\\\\n",
    "\\end{pmatrix}$$\n",
    "\n",
    "Considere a correspondência de pontos $(p_i, p'_i)$, onde $p_i = (x_i, y_i, 1)^T$ é a coordenada de um ponto na imagem original e $p'_i = (x'_i, y'_i, 1)^T$ é a coordenada correspondente na imagem de destino. Como vimos em aula, é comum utilizarmos $h_{33} = 1$, uma vez que a matriz $H$ pode ser multiplicada por qualquer valor escalar sem alterar o resultado final.\n",
    "\n",
    "Queremos encontrar $H$ tal que $q = H\\cdot p$. Abrindo a multiplicação obtemos:\n",
    "\n",
    "$$\n",
    "\\begin{pmatrix}\n",
    "h_{11}x_i + h_{12}y_i + h_{13} \\\\\n",
    "h_{21}x_i + h_{22}y_i + h_{23} \\\\\n",
    "h_{31}x_i + h_{32}y_i + 1 \\\\\n",
    "\\end{pmatrix} = \\begin{pmatrix}\n",
    "\\frac{h_{11}x_i + h_{12}y_i + h_{13}}{h_{31}x_i + h_{32}y_i + 1} \\\\\n",
    "\\frac{h_{21}x_i + h_{22}y_i + h_{23}}{h_{31}x_i + h_{32}y_i + 1} \\\\\n",
    "1 \\\\\n",
    "\\end{pmatrix}\n",
    "$$\n",
    "\n",
    "Sabemos que esse vetor deve ser igual a $p'_i$, consequentemente o valor de suas coordenadas devem ser iguais. Assim:\n",
    "\n",
    "$$\n",
    "\\begin{align}\n",
    "h_{11}x_i + h_{12}y_i + h_{13} &= x'_i(h_{31}x_i + h_{32}y_i + 1) \\\\\n",
    "h_{21}x_i + h_{22}y_i + h_{23} &= y'_i(h_{31}x_i + h_{32}y_i + 1)\n",
    "\\end{align}\n",
    "$$\n",
    "\n",
    "Reorganizando as equações, temos:\n",
    "\n",
    "$$\n",
    "\\begin{align}\n",
    "x_ih_{11} + y_ih_{12} + h_{13} - x_ix'_ih_{31} - y_ix'_ih_{32} &= x'_i \\\\\n",
    "x_ih_{21} + y_ih_{22} + h_{23} - x_iy'_ih_{31} - y_iy'_ih_{32} &= y'_i\n",
    "\\end{align}\n",
    "$$\n",
    "\n",
    "Que são duas equações de um sistema linear com 8 variáveis (as componentes da matriz $H$, menos $h_{33}$, que já definimos como 1).\n",
    "\n",
    "Como temos 8 variáveis, precisamos de pelo menos 8 equações no nosso sistema para que ele tenha solução única. Cada correspondência de pontos gera duas equações, logo com 4 correspondências de pontos temos as 8 equações de que precisamos. Montando o sistema como uma multiplicação de matrizes, temos:\n",
    "\n",
    "$$\n",
    "\\begin{pmatrix}\n",
    "x_1 & y_1 & 1 & 0 & 0 & 0 & -x_1x'_1 & -y_1x'_1 \\\\\n",
    "0 & 0 & 0 & x_1 & y_1 & 1 & -x_1y'_1 & -y_1y'_1 \\\\\n",
    "x_2 & y_2 & 1 & 0 & 0 & 0 & -x_2x'_2 & -y_2x'_2 \\\\\n",
    "0 & 0 & 0 & x_2 & y_2 & 1 & -x_2y'_2 & -y_2y'_2 \\\\\n",
    "x_3 & y_3 & 1 & 0 & 0 & 0 & -x_3x'_3 & -y_3x'_3 \\\\\n",
    "0 & 0 & 0 & x_3 & y_3 & 1 & -x_3y'_3 & -y_3y'_3 \\\\\n",
    "x_4 & y_4 & 1 & 0 & 0 & 0 & -x_4x'_4 & -y_4x'_4 \\\\\n",
    "0 & 0 & 0 & x_4 & y_4 & 1 & -x_4y'_4 & -y_4y'_4\n",
    "\\end{pmatrix}\n",
    "\\begin{pmatrix}\n",
    "h_{11} \\\\\n",
    "h_{12} \\\\\n",
    "h_{13} \\\\\n",
    "h_{21} \\\\\n",
    "h_{22} \\\\\n",
    "h_{23} \\\\\n",
    "h_{31} \\\\\n",
    "h_{32}\n",
    "\\end{pmatrix} = \n",
    "\\begin{pmatrix}\n",
    "x'_1 \\\\\n",
    "y'_1 \\\\\n",
    "x'_2 \\\\\n",
    "y'_2 \\\\\n",
    "x'_3 \\\\\n",
    "y'_3 \\\\\n",
    "x'_4 \\\\\n",
    "y'_4\n",
    "\\end{pmatrix}\n",
    "$$\n",
    "\n",
    "Resolvendo o sistema linear obtemos a matriz de homografia."
   ]
  },
  {
   "cell_type": "markdown",
   "metadata": {},
   "source": [
    "# Atividade\n",
    "\n",
    "1. Abra a imagem do documento e localize as coordenadas dos quatro cantos da folha e monte uma lista com esses pontos;\n",
    "2. Queremos uma imagem final no formato de uma folha A4 em paisagem. Para isso utilizaremos uma resolução de 1684 X 1190 pixels (você pode alterar os valores se preferir). Monte uma lista com os 4 cantos da imagem de destino, seguindo a mesma ordem do item anterior, ou seja, se o primeiro ponto da lista anterior é o canto superior esquerdo, o primeiro ponto dessa nova lista também deve ser o canto superior esquerdo;\n",
    "3. Crie uma função que recebe duas listas com correspondências de pontos e devolve uma matriz de homografia:\n",
    "    \n",
    "    1. Monte as matrizes do sistema linear descrito acima;\n",
    "    2. Resolva o sistema linear (pode usar funções prontas, ex: `numpy.linalg.solve`) e monte a matriz de homografia (não se esqueça que a última componente é igual a 1);  \n",
    "4. Teste sua função. Para isso, utilize a função [findHomography](https://docs.opencv.org/3.4/d9/d0c/group__calib3d.html#ga4abc2ece9fab9398f2e560d53c8c9780) do OpenCV e compare as matrizes resultantes com a função [numpy.allclose](https://docs.scipy.org/doc/numpy-1.15.1/reference/generated/numpy.allclose.html);\n",
    "5. Crie uma matriz de zeros no formato da imagem de destino. Percorra cada pixel dessa imagem aplicando a homografia inversa para descobrir o pixel original e preencha a imagem de destino com aquele pixel (lembre-se da atividade da primeira aula deste módulo). Apresente a imagem resultante neste notebook.\n",
    "\n",
    "## Desafios\n",
    "\n",
    "1. Automatize o processo construção dos pares de pontos. Para isso, crie uma função que recebe uma foto e devolve as coordenadas dos quatro cantos do documento;\n",
    "2. Implemente uma interface gráfica para o seu programa de retificação automática de documentos. Requisitos:\n",
    "    1. Permitir a seleção do arquivo de entrada;\n",
    "    2. Permitir o ajuste manual dos cantos detectados na foto;\n",
    "    3. Permitir a seleção da resolução do arquivo final;\n",
    "    4. Salvar o documento retificado em um arquivo.\n",
    "    \n",
    "  O OpenCV possui funções para criar uma interface gráfica simples. Você pode utilizá-las para implementar seu programa.\n",
    "    \n",
    "  **A conclusão satisfatória deste desafio vale até 1 ponto adicional na nota do projeto 4.** Para ganhar até meio ponto a seleção do arquivo de entrada pode ser feita na linha de comando do terminal e a interface gráfica pode ser implementada utilizando somente o OpenCV. Para valer até um ponto é necessário implementar uma interface gráfica completa (para seleção dos arquivos e ajuste dos cantos do documento)."
   ]
  },
  {
   "cell_type": "code",
   "execution_count": 5,
   "metadata": {},
   "outputs": [],
   "source": [
    "# Imports\n",
    "import numpy as np"
   ]
  },
  {
   "cell_type": "code",
   "execution_count": 7,
   "metadata": {},
   "outputs": [],
   "source": [
    "# Item 1\n",
    "orig = [\n",
    "    # Coloque os pontos aqui\n",
    "    [478,402], # Left up\n",
    "    [80,1242], # Left down\n",
    "    [1804,80], # Right up\n",
    "    [1924,1404] # Right down\n",
    "]"
   ]
  },
  {
   "cell_type": "code",
   "execution_count": 8,
   "metadata": {},
   "outputs": [],
   "source": [
    "# Item 2\n",
    "dest = [\n",
    "    [0,0],\n",
    "    [0,930],\n",
    "    [1360,0],\n",
    "    [1360,930]\n",
    "    # Coloque os pontos correspondentes aqui\n",
    "]"
   ]
  },
  {
   "cell_type": "code",
   "execution_count": 9,
   "metadata": {},
   "outputs": [],
   "source": [
    "# Item 3\n",
    "def find_homography(orig, dest):\n",
    "    return np.eye(4)"
   ]
  },
  {
   "cell_type": "code",
   "execution_count": 1,
   "metadata": {},
   "outputs": [],
   "source": [
    "# Item 4\n",
    "# Verifique o resultado da sua função find_homography comparando com a implementação do OpenCV"
   ]
  },
  {
   "cell_type": "code",
   "execution_count": 2,
   "metadata": {},
   "outputs": [],
   "source": [
    "# Item 5\n",
    "# Crie a imagem final aqui"
   ]
  },
  {
   "cell_type": "markdown",
   "metadata": {},
   "source": [
    "## Referências\n",
    "\n",
    "- Multiple View Geometry in Computer Vision. Hartley, R. e Zisserman, A. Capítulo 2."
   ]
  }
 ],
 "metadata": {
  "kernelspec": {
   "display_name": "Python 3",
   "language": "python",
   "name": "python3"
  },
  "language_info": {
   "codemirror_mode": {
    "name": "ipython",
    "version": 3
   },
   "file_extension": ".py",
   "mimetype": "text/x-python",
   "name": "python",
   "nbconvert_exporter": "python",
   "pygments_lexer": "ipython3",
   "version": "3.7.4"
  }
 },
 "nbformat": 4,
 "nbformat_minor": 2
}
